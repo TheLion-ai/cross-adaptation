{
 "cells": [
  {
   "cell_type": "code",
   "execution_count": null,
   "id": "6eca477b",
   "metadata": {},
   "outputs": [],
   "source": []
  },
  {
   "cell_type": "code",
   "execution_count": 2,
   "id": "a3666f8a",
   "metadata": {},
   "outputs": [
    {
     "ename": "NameError",
     "evalue": "name 'os' is not defined",
     "output_type": "error",
     "traceback": [
      "\u001b[31m---------------------------------------------------------------------------\u001b[39m",
      "\u001b[31mNameError\u001b[39m                                 Traceback (most recent call last)",
      "\u001b[36mCell\u001b[39m\u001b[36m \u001b[39m\u001b[32mIn[2]\u001b[39m\u001b[32m, line 2\u001b[39m\n\u001b[32m      1\u001b[39m root_path = \u001b[33m\"\u001b[39m\u001b[33m/home/basia/Desktop/cross-adaptation/experiments/data/tabular/processed\u001b[39m\u001b[33m\"\u001b[39m\n\u001b[32m----> \u001b[39m\u001b[32m2\u001b[39m datasets = \u001b[43mos\u001b[49m.listdir(os.path.join(root_path, \u001b[33m'\u001b[39m\u001b[33mtrain\u001b[39m\u001b[33m'\u001b[39m))\n\u001b[32m      3\u001b[39m data = {\n\u001b[32m      4\u001b[39m         dataset[:-\u001b[32m4\u001b[39m]: pd.concat([\n\u001b[32m      5\u001b[39m             pd.read_csv(os.path.join(root_path, \u001b[33m'\u001b[39m\u001b[33mtrain\u001b[39m\u001b[33m'\u001b[39m, dataset), index_col=\u001b[32m0\u001b[39m),\n\u001b[32m   (...)\u001b[39m\u001b[32m      8\u001b[39m         \u001b[38;5;28;01mfor\u001b[39;00m dataset \u001b[38;5;129;01min\u001b[39;00m datasets \n\u001b[32m      9\u001b[39m     }\n",
      "\u001b[31mNameError\u001b[39m: name 'os' is not defined"
     ]
    }
   ],
   "source": [
    "root_path = \"/home/basia/Desktop/cross-adaptation/experiments/data/tabular/processed\"\n",
    "datasets = os.listdir(os.path.join(root_path, 'train'))\n",
    "data = {\n",
    "        dataset[:-4]: pd.concat([\n",
    "            pd.read_csv(os.path.join(root_path, 'train', dataset), index_col=0),\n",
    "            pd.read_csv(os.path.join(root_path, 'test', dataset), index_col=0)\n",
    "        ], ignore_index=True)\n",
    "        for dataset in datasets \n",
    "    }\n"
   ]
  },
  {
   "cell_type": "code",
   "execution_count": null,
   "id": "b9c9cc4d",
   "metadata": {},
   "outputs": [
    {
     "ename": "TypeError",
     "evalue": "BaseAdaptEstimator.fit() missing 1 required positional argument: 'y'",
     "output_type": "error",
     "traceback": [
      "\u001b[31m---------------------------------------------------------------------------\u001b[39m",
      "\u001b[31mTypeError\u001b[39m                                 Traceback (most recent call last)",
      "\u001b[36mCell\u001b[39m\u001b[36m \u001b[39m\u001b[32mIn[24]\u001b[39m\u001b[32m, line 7\u001b[39m\n\u001b[32m      4\u001b[39m \u001b[38;5;28;01mfrom\u001b[39;00m\u001b[38;5;250m \u001b[39m\u001b[34;01mcross_adaptation\u001b[39;00m\u001b[38;5;250m \u001b[39m\u001b[38;5;28;01mimport\u001b[39;00m Adapter\n\u001b[32m      6\u001b[39m adapter = Adapter(train_data=data, estimator=LogisticRegression(), adapt_model=KLIEP)\n\u001b[32m----> \u001b[39m\u001b[32m7\u001b[39m transformed_data = \u001b[43madapter\u001b[49m\u001b[43m.\u001b[49m\u001b[43madapt\u001b[49m\u001b[43m(\u001b[49m\u001b[43m)\u001b[49m\n\u001b[32m      8\u001b[39m \u001b[38;5;66;03m# for dataset_name, df in transformed_data.items():\u001b[39;00m\n\u001b[32m      9\u001b[39m \u001b[38;5;66;03m#     table = wandb.Table(dataframe=df)\u001b[39;00m\n\u001b[32m     10\u001b[39m \u001b[38;5;66;03m#     run.log({f\"{dataset_name}_cross_adapted\": table})\u001b[39;00m\n\u001b[32m   (...)\u001b[39m\u001b[32m     30\u001b[39m \u001b[38;5;66;03m# score = mean(list(score))\u001b[39;00m\n\u001b[32m     31\u001b[39m \u001b[38;5;66;03m# wandb.log({f\"{cfg.optimized_metric}_mean_score\": score})\u001b[39;00m\n",
      "\u001b[36mFile \u001b[39m\u001b[32m~/Desktop/cross-adaptation/src/cross_adaptation/core/cross_adaptation.py:89\u001b[39m, in \u001b[36mAdapter.adapt\u001b[39m\u001b[34m(self)\u001b[39m\n\u001b[32m     86\u001b[39m \u001b[38;5;28mself\u001b[39m.adapt_model.Xt = Xt\n\u001b[32m     87\u001b[39m \u001b[38;5;28mself\u001b[39m.adapt_model.yt = np.array(yt)\n\u001b[32m---> \u001b[39m\u001b[32m89\u001b[39m \u001b[38;5;28;43mself\u001b[39;49m\u001b[43m.\u001b[49m\u001b[43madapt_model\u001b[49m\u001b[43m.\u001b[49m\u001b[43mfit\u001b[49m\u001b[43m(\u001b[49m\u001b[43mXs\u001b[49m\u001b[43m,\u001b[49m\u001b[43m \u001b[49m\u001b[43mnp\u001b[49m\u001b[43m.\u001b[49m\u001b[43marray\u001b[49m\u001b[43m(\u001b[49m\u001b[43mys\u001b[49m\u001b[43m)\u001b[49m\u001b[43m)\u001b[49m\n\u001b[32m     91\u001b[39m Xs = pd.DataFrame(Xs, columns=dfs.columns.drop(\u001b[33m\"\u001b[39m\u001b[33mtarget\u001b[39m\u001b[33m\"\u001b[39m))\n\u001b[32m     92\u001b[39m ys = ys.reset_index(drop=\u001b[38;5;28;01mTrue\u001b[39;00m)\n",
      "\u001b[31mTypeError\u001b[39m: BaseAdaptEstimator.fit() missing 1 required positional argument: 'y'"
     ]
    }
   ],
   "source": [
    "from lazypredict.Supervised import LazyClassifier\n",
    "from sklearn.linear_model import LogisticRegression\n",
    "from adapt.instance_based import KLIEP\n",
    "from cross_adaptation import Adapter\n",
    "\n",
    "adapter = Adapter(train_data=data, estimator=LogisticRegression(), adapt_model=KLIEP)\n",
    "transformed_data = adapter.adapt()\n",
    "# for dataset_name, df in transformed_data.items():\n",
    "#     table = wandb.Table(dataframe=df)\n",
    "#     run.log({f\"{dataset_name}_cross_adapted\": table})\n",
    "\n",
    "# # Test on the adapted data\n",
    "# metrics = [\n",
    "#     hydra.utils.instantiate(metric, _partial_=True, zero_division=0.0) \\\n",
    "#     if metric['_target_'] not in ['sklearn.metrics.accuracy_score', 'sklearn.metrics.roc_auc_score'] \\\n",
    "#     else hydra.utils.instantiate(metric, _partial_=True) \\\n",
    "#     for metric in cfg.metrics\n",
    "# ]\n",
    "# results = adapter.test(test_data, metrics=metrics)\n",
    "# wandb.log(results)\n",
    "\n",
    "# baseline_results = adapter.calc_baseline(test_data, metrics=metrics)\n",
    "# wandb.log(baseline_results)\n",
    "# compare_results = adapter.compare(results, baseline_results, metrics, test_data)\n",
    "# wandb.log(compare_results)\n",
    "# # Calculate the score for optuna\n",
    "# score = dict(\n",
    "#     filter(lambda item: cfg.optimized_metric in item[0], results.items())\n",
    "# ).values()\n",
    "# score = mean(list(score))\n",
    "# wandb.log({f\"{cfg.optimized_metric}_mean_score\": score})\n"
   ]
  },
  {
   "cell_type": "code",
   "execution_count": null,
   "id": "32a9fce0",
   "metadata": {},
   "outputs": [],
   "source": []
  }
 ],
 "metadata": {
  "kernelspec": {
   "display_name": "cross-adaptation (3.12.2)",
   "language": "python",
   "name": "python3"
  },
  "language_info": {
   "codemirror_mode": {
    "name": "ipython",
    "version": 3
   },
   "file_extension": ".py",
   "mimetype": "text/x-python",
   "name": "python",
   "nbconvert_exporter": "python",
   "pygments_lexer": "ipython3",
   "version": "3.12.2"
  }
 },
 "nbformat": 4,
 "nbformat_minor": 5
}
